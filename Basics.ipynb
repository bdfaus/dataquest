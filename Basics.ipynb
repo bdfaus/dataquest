{
 "cells": [
  {
   "cell_type": "code",
   "execution_count": 38,
   "metadata": {
    "collapsed": true
   },
   "outputs": [],
   "source": [
    "import csv"
   ]
  },
  {
   "cell_type": "code",
   "execution_count": 39,
   "metadata": {
    "collapsed": true
   },
   "outputs": [],
   "source": [
    "f = open('guns.csv','r')"
   ]
  },
  {
   "cell_type": "code",
   "execution_count": 40,
   "metadata": {
    "collapsed": false
   },
   "outputs": [],
   "source": [
    "data = list(csv.reader(f))"
   ]
  },
  {
   "cell_type": "code",
   "execution_count": 41,
   "metadata": {
    "collapsed": false
   },
   "outputs": [],
   "source": [
    "headers = data[0]\n",
    "data = data[1:]"
   ]
  },
  {
   "cell_type": "code",
   "execution_count": 42,
   "metadata": {
    "collapsed": false
   },
   "outputs": [
    {
     "data": {
      "text/plain": [
       "[['1',\n",
       "  '2012',\n",
       "  '01',\n",
       "  'Suicide',\n",
       "  '0',\n",
       "  'M',\n",
       "  '34',\n",
       "  'Asian/Pacific Islander',\n",
       "  '100',\n",
       "  'Home',\n",
       "  '4'],\n",
       " ['2', '2012', '01', 'Suicide', '0', 'F', '21', 'White', '100', 'Street', '3'],\n",
       " ['3',\n",
       "  '2012',\n",
       "  '01',\n",
       "  'Suicide',\n",
       "  '0',\n",
       "  'M',\n",
       "  '60',\n",
       "  'White',\n",
       "  '100',\n",
       "  'Other specified',\n",
       "  '4'],\n",
       " ['4', '2012', '02', 'Suicide', '0', 'M', '64', 'White', '100', 'Home', '4'],\n",
       " ['5',\n",
       "  '2012',\n",
       "  '02',\n",
       "  'Suicide',\n",
       "  '0',\n",
       "  'M',\n",
       "  '31',\n",
       "  'White',\n",
       "  '100',\n",
       "  'Other specified',\n",
       "  '2']]"
      ]
     },
     "execution_count": 42,
     "metadata": {},
     "output_type": "execute_result"
    }
   ],
   "source": [
    "data[0:5]"
   ]
  },
  {
   "cell_type": "code",
   "execution_count": 43,
   "metadata": {
    "collapsed": false
   },
   "outputs": [
    {
     "data": {
      "text/plain": [
       "['',\n",
       " 'year',\n",
       " 'month',\n",
       " 'intent',\n",
       " 'police',\n",
       " 'sex',\n",
       " 'age',\n",
       " 'race',\n",
       " 'hispanic',\n",
       " 'place',\n",
       " 'education']"
      ]
     },
     "execution_count": 43,
     "metadata": {},
     "output_type": "execute_result"
    }
   ],
   "source": [
    "headers"
   ]
  },
  {
   "cell_type": "code",
   "execution_count": 44,
   "metadata": {
    "collapsed": true
   },
   "outputs": [],
   "source": [
    "years = [row[1] for row in data]"
   ]
  },
  {
   "cell_type": "code",
   "execution_count": 45,
   "metadata": {
    "collapsed": true
   },
   "outputs": [],
   "source": [
    "year_counts = dict()"
   ]
  },
  {
   "cell_type": "code",
   "execution_count": 46,
   "metadata": {
    "collapsed": false
   },
   "outputs": [],
   "source": [
    "for year in years:\n",
    "    try:\n",
    "        year_counts[year] += 1\n",
    "    except:\n",
    "        year_counts[year] = 1"
   ]
  },
  {
   "cell_type": "code",
   "execution_count": 47,
   "metadata": {
    "collapsed": false
   },
   "outputs": [
    {
     "name": "stdout",
     "output_type": "stream",
     "text": [
      "{'2013': 33636, '2014': 33599, '2012': 33563}\n"
     ]
    }
   ],
   "source": [
    "print(year_counts)"
   ]
  },
  {
   "cell_type": "code",
   "execution_count": 48,
   "metadata": {
    "collapsed": true
   },
   "outputs": [],
   "source": [
    "import datetime"
   ]
  },
  {
   "cell_type": "code",
   "execution_count": 49,
   "metadata": {
    "collapsed": false
   },
   "outputs": [],
   "source": [
    "dates = [datetime.datetime(year=int(row[1]), month=int(row[2]), day=1) for row in data]"
   ]
  },
  {
   "cell_type": "code",
   "execution_count": 50,
   "metadata": {
    "collapsed": false
   },
   "outputs": [
    {
     "data": {
      "text/plain": [
       "[datetime.datetime(2012, 1, 1, 0, 0),\n",
       " datetime.datetime(2012, 1, 1, 0, 0),\n",
       " datetime.datetime(2012, 1, 1, 0, 0),\n",
       " datetime.datetime(2012, 2, 1, 0, 0),\n",
       " datetime.datetime(2012, 2, 1, 0, 0)]"
      ]
     },
     "execution_count": 50,
     "metadata": {},
     "output_type": "execute_result"
    }
   ],
   "source": [
    "dates[0:5]"
   ]
  },
  {
   "cell_type": "code",
   "execution_count": 51,
   "metadata": {
    "collapsed": false
   },
   "outputs": [],
   "source": [
    "date_counts=dict()\n",
    "for date in dates:\n",
    "    try:\n",
    "        date_counts[date] += 1\n",
    "    except:\n",
    "        date_counts[date] = 1"
   ]
  },
  {
   "cell_type": "code",
   "execution_count": 52,
   "metadata": {
    "collapsed": false
   },
   "outputs": [
    {
     "name": "stdout",
     "output_type": "stream",
     "text": [
      "{datetime.datetime(2012, 9, 1, 0, 0): 2852, datetime.datetime(2012, 4, 1, 0, 0): 2795, datetime.datetime(2014, 12, 1, 0, 0): 2857, datetime.datetime(2013, 11, 1, 0, 0): 2758, datetime.datetime(2014, 9, 1, 0, 0): 2914, datetime.datetime(2014, 10, 1, 0, 0): 2865, datetime.datetime(2014, 6, 1, 0, 0): 2931, datetime.datetime(2013, 1, 1, 0, 0): 2864, datetime.datetime(2013, 9, 1, 0, 0): 2742, datetime.datetime(2012, 10, 1, 0, 0): 2733, datetime.datetime(2012, 11, 1, 0, 0): 2729, datetime.datetime(2012, 2, 1, 0, 0): 2357, datetime.datetime(2014, 11, 1, 0, 0): 2756, datetime.datetime(2013, 6, 1, 0, 0): 2920, datetime.datetime(2012, 5, 1, 0, 0): 2999, datetime.datetime(2014, 7, 1, 0, 0): 2884, datetime.datetime(2012, 7, 1, 0, 0): 3026, datetime.datetime(2013, 10, 1, 0, 0): 2808, datetime.datetime(2014, 1, 1, 0, 0): 2651, datetime.datetime(2013, 5, 1, 0, 0): 2806, datetime.datetime(2013, 2, 1, 0, 0): 2375, datetime.datetime(2014, 2, 1, 0, 0): 2361, datetime.datetime(2013, 4, 1, 0, 0): 2798, datetime.datetime(2012, 6, 1, 0, 0): 2826, datetime.datetime(2014, 3, 1, 0, 0): 2684, datetime.datetime(2012, 1, 1, 0, 0): 2758, datetime.datetime(2013, 12, 1, 0, 0): 2765, datetime.datetime(2014, 8, 1, 0, 0): 2970, datetime.datetime(2014, 5, 1, 0, 0): 2864, datetime.datetime(2012, 12, 1, 0, 0): 2791, datetime.datetime(2013, 7, 1, 0, 0): 3079, datetime.datetime(2012, 8, 1, 0, 0): 2954, datetime.datetime(2014, 4, 1, 0, 0): 2862, datetime.datetime(2013, 3, 1, 0, 0): 2862, datetime.datetime(2013, 8, 1, 0, 0): 2859, datetime.datetime(2012, 3, 1, 0, 0): 2743}\n"
     ]
    }
   ],
   "source": [
    "print(date_counts)"
   ]
  },
  {
   "cell_type": "code",
   "execution_count": 53,
   "metadata": {
    "collapsed": false
   },
   "outputs": [],
   "source": [
    "sex_counts = dict()\n",
    "for row in data:\n",
    "    try:\n",
    "        sex_counts[row[5]] += 1\n",
    "    except:\n",
    "        sex_counts[row[5]] = 1"
   ]
  },
  {
   "cell_type": "code",
   "execution_count": 54,
   "metadata": {
    "collapsed": false
   },
   "outputs": [
    {
     "data": {
      "text/plain": [
       "{'F': 14449, 'M': 86349}"
      ]
     },
     "execution_count": 54,
     "metadata": {},
     "output_type": "execute_result"
    }
   ],
   "source": [
    "sex_counts"
   ]
  },
  {
   "cell_type": "code",
   "execution_count": 55,
   "metadata": {
    "collapsed": true
   },
   "outputs": [],
   "source": [
    "race_counts = dict()\n",
    "for row in data:\n",
    "    try:\n",
    "        race_counts[row[7]] += 1\n",
    "    except:\n",
    "        race_counts[row[7]] = 1"
   ]
  },
  {
   "cell_type": "code",
   "execution_count": 56,
   "metadata": {
    "collapsed": false
   },
   "outputs": [
    {
     "data": {
      "text/plain": [
       "{'Asian/Pacific Islander': 1326,\n",
       " 'Black': 23296,\n",
       " 'Hispanic': 9022,\n",
       " 'Native American/Native Alaskan': 917,\n",
       " 'White': 66237}"
      ]
     },
     "execution_count": 56,
     "metadata": {},
     "output_type": "execute_result"
    }
   ],
   "source": [
    "race_counts"
   ]
  },
  {
   "cell_type": "markdown",
   "metadata": {},
   "source": [
    "<h1>DATA notes</h1>\n",
    "\n",
    "-Many more males than females\n",
    "-Race in descending order (White,Black,Hispanic,Asian/Pacific Islander,Native American/Native Alaskan)\n",
    "-dates listed all seem relatively uniform"
   ]
  },
  {
   "cell_type": "code",
   "execution_count": 57,
   "metadata": {
    "collapsed": false
   },
   "outputs": [
    {
     "name": "stdout",
     "output_type": "stream",
     "text": [
      "[['Id', 'Year', 'Id', 'Sex', 'Id', 'Hispanic Origin', 'Id', 'Id2', 'Geography', 'Total', 'Race Alone - White', 'Race Alone - Hispanic', 'Race Alone - Black or African American', 'Race Alone - American Indian and Alaska Native', 'Race Alone - Asian', 'Race Alone - Native Hawaiian and Other Pacific Islander', 'Two or More Races'], ['cen42010', 'April 1, 2010 Census', 'totsex', 'Both Sexes', 'tothisp', 'Total', '0100000US', '', 'United States', '308745538', '197318956', '44618105', '40250635', '3739506', '15159516', '674625', '6984195']]\n"
     ]
    }
   ],
   "source": [
    "f = open('census.csv','r')\n",
    "census = list(csv.reader(f))\n",
    "print(census)"
   ]
  },
  {
   "cell_type": "code",
   "execution_count": 58,
   "metadata": {
    "collapsed": false
   },
   "outputs": [
    {
     "name": "stdout",
     "output_type": "stream",
     "text": [
      "Id\n",
      "cen42010\n",
      "Year\n",
      "April 1, 2010 Census\n",
      "Id\n",
      "totsex\n",
      "Sex\n",
      "Both Sexes\n",
      "Id\n",
      "tothisp\n",
      "Hispanic Origin\n",
      "Total\n",
      "Id\n",
      "0100000US\n",
      "Id2\n",
      "\n",
      "Geography\n",
      "United States\n",
      "Total\n",
      "308745538\n",
      "Race Alone - White\n",
      "197318956\n",
      "Race Alone - Hispanic\n",
      "44618105\n",
      "Race Alone - Black or African American\n",
      "40250635\n",
      "Race Alone - American Indian and Alaska Native\n",
      "3739506\n",
      "Race Alone - Asian\n",
      "15159516\n",
      "Race Alone - Native Hawaiian and Other Pacific Islander\n",
      "674625\n",
      "Two or More Races\n",
      "6984195\n"
     ]
    }
   ],
   "source": [
    "header = census[0]\n",
    "datum = census[1]\n",
    "\n",
    "for i,item in enumerate(header):\n",
    "    print(item)\n",
    "    print(datum[i])"
   ]
  },
  {
   "cell_type": "code",
   "execution_count": 59,
   "metadata": {
    "collapsed": false
   },
   "outputs": [],
   "source": [
    "mapping = dict()\n",
    "mapping['Asian/Pacific Islander'] = 15159516 + 674625\n",
    "mapping['Black'] = 40250635\n",
    "mapping['Native American/Native Alaskan'] = 3739506\n",
    "mapping['Hispanic'] = 44618105\n",
    "mapping['White'] = 197318956"
   ]
  },
  {
   "cell_type": "code",
   "execution_count": 60,
   "metadata": {
    "collapsed": false
   },
   "outputs": [
    {
     "data": {
      "text/plain": [
       "{'Asian/Pacific Islander': 15834141,\n",
       " 'Black': 40250635,\n",
       " 'Hispanic': 44618105,\n",
       " 'Native American/Native Alaskan': 3739506,\n",
       " 'White': 197318956}"
      ]
     },
     "execution_count": 60,
     "metadata": {},
     "output_type": "execute_result"
    }
   ],
   "source": [
    "mapping"
   ]
  },
  {
   "cell_type": "code",
   "execution_count": 61,
   "metadata": {
    "collapsed": false
   },
   "outputs": [],
   "source": [
    "race_per_hundredk = dict()"
   ]
  },
  {
   "cell_type": "code",
   "execution_count": 78,
   "metadata": {
    "collapsed": true
   },
   "outputs": [],
   "source": [
    "for race,count in race_counts.items():\n",
    "    race_per_hundredk[race] = count/mapping[race] * 100000"
   ]
  },
  {
   "cell_type": "code",
   "execution_count": 79,
   "metadata": {
    "collapsed": false
   },
   "outputs": [
    {
     "data": {
      "text/plain": [
       "{'Asian/Pacific Islander': 8.374309664161762,\n",
       " 'Black': 57.8773477735196,\n",
       " 'Hispanic': 20.220491210910907,\n",
       " 'Native American/Native Alaskan': 24.521955573811088,\n",
       " 'White': 33.56849303419181}"
      ]
     },
     "execution_count": 79,
     "metadata": {},
     "output_type": "execute_result"
    }
   ],
   "source": [
    "race_per_hundredk"
   ]
  },
  {
   "cell_type": "code",
   "execution_count": 67,
   "metadata": {
    "collapsed": true
   },
   "outputs": [],
   "source": [
    "intents = [row[3] for row in data]"
   ]
  },
  {
   "cell_type": "code",
   "execution_count": 69,
   "metadata": {
    "collapsed": false
   },
   "outputs": [],
   "source": [
    "races = [row[7] for row in data]"
   ]
  },
  {
   "cell_type": "code",
   "execution_count": 72,
   "metadata": {
    "collapsed": false
   },
   "outputs": [],
   "source": [
    "homicide_race_counts = dict()"
   ]
  },
  {
   "cell_type": "code",
   "execution_count": 73,
   "metadata": {
    "collapsed": false,
    "scrolled": true
   },
   "outputs": [
    {
     "name": "stdout",
     "output_type": "stream",
     "text": [
      "{'Native American/Native Alaskan': 326, 'Asian/Pacific Islander': 559, 'Hispanic': 5634, 'White': 9147, 'Black': 19510}\n"
     ]
    }
   ],
   "source": [
    "for i,race in enumerate(races):\n",
    "    if intents[i] == \"Homicide\":\n",
    "        try:\n",
    "            homicide_race_counts[race] += 1\n",
    "        except:\n",
    "            homicide_race_counts[race] = 1\n",
    "print(homicide_race_counts)"
   ]
  },
  {
   "cell_type": "code",
   "execution_count": 75,
   "metadata": {
    "collapsed": true
   },
   "outputs": [],
   "source": [
    "homicides_per_hundredk = dict()"
   ]
  },
  {
   "cell_type": "code",
   "execution_count": 76,
   "metadata": {
    "collapsed": true
   },
   "outputs": [],
   "source": [
    "for race,count in homicide_race_counts.items():\n",
    "    homicides_per_hundredk[race] = count/mapping[race] * 100000"
   ]
  },
  {
   "cell_type": "code",
   "execution_count": 77,
   "metadata": {
    "collapsed": false
   },
   "outputs": [
    {
     "data": {
      "text/plain": [
       "{'Asian/Pacific Islander': 3.530346230970155,\n",
       " 'Black': 48.471284987180944,\n",
       " 'Hispanic': 12.627161104219914,\n",
       " 'Native American/Native Alaskan': 8.717729026240365,\n",
       " 'White': 4.6356417981453335}"
      ]
     },
     "execution_count": 77,
     "metadata": {},
     "output_type": "execute_result"
    }
   ],
   "source": [
    "homicides_per_hundredk"
   ]
  },
  {
   "cell_type": "markdown",
   "metadata": {},
   "source": [
    "<h2>Preliminary conclusions</h2>\n",
    "Blacks get the short end of the stick when it comes to death by gun.\n",
    "\n",
    "<h3>Additional research </h3>\n",
    "<li> It might be worth looking into dates of incidents when compared against race or compared against intent (e.g. do homocides happen more in the summer?)\n",
    "<li> Age would be another worthwhile component. What is the median age for homicides of each race? What is the overal median age for gun deaths? for suicides specifically?\n",
    "<li> THE POSSIBILITIES ARE ENDLESS\n",
    "\n",
    "<h2> Other suggestions </h2>\n",
    "<li>Figure out the link, if any, between month and homicide rate\n",
    "<li>Explore the homicide rate by gender\n",
    "<li>Explore the rates of other intents, like Accidental, by gender and race.\n",
    "<li>Find out if gun death rates correlate to location and education\n"
   ]
  },
  {
   "cell_type": "code",
   "execution_count": null,
   "metadata": {
    "collapsed": true
   },
   "outputs": [],
   "source": []
  }
 ],
 "metadata": {
  "kernelspec": {
   "display_name": "Python 3",
   "language": "python",
   "name": "python3"
  },
  "language_info": {
   "codemirror_mode": {
    "name": "ipython",
    "version": 3
   },
   "file_extension": ".py",
   "mimetype": "text/x-python",
   "name": "python",
   "nbconvert_exporter": "python",
   "pygments_lexer": "ipython3",
   "version": "3.4.3"
  }
 },
 "nbformat": 4,
 "nbformat_minor": 0
}
