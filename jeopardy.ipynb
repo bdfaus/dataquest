{
 "cells": [
  {
   "cell_type": "code",
   "execution_count": 51,
   "metadata": {
    "collapsed": true
   },
   "outputs": [],
   "source": [
    "import pandas as pd\n",
    "import matplotlib.pyplot as plt\n",
    "import re\n",
    "import scipy.stats\n",
    "%matplotlib inline"
   ]
  },
  {
   "cell_type": "code",
   "execution_count": 2,
   "metadata": {
    "collapsed": false
   },
   "outputs": [
    {
     "data": {
      "text/html": [
       "<div>\n",
       "<table border=\"1\" class=\"dataframe\">\n",
       "  <thead>\n",
       "    <tr style=\"text-align: right;\">\n",
       "      <th></th>\n",
       "      <th>Show Number</th>\n",
       "      <th>Air Date</th>\n",
       "      <th>Round</th>\n",
       "      <th>Category</th>\n",
       "      <th>Value</th>\n",
       "      <th>Question</th>\n",
       "      <th>Answer</th>\n",
       "    </tr>\n",
       "  </thead>\n",
       "  <tbody>\n",
       "    <tr>\n",
       "      <th>0</th>\n",
       "      <td>4680</td>\n",
       "      <td>2004-12-31</td>\n",
       "      <td>Jeopardy!</td>\n",
       "      <td>HISTORY</td>\n",
       "      <td>$200</td>\n",
       "      <td>For the last 8 years of his life, Galileo was ...</td>\n",
       "      <td>Copernicus</td>\n",
       "    </tr>\n",
       "    <tr>\n",
       "      <th>1</th>\n",
       "      <td>4680</td>\n",
       "      <td>2004-12-31</td>\n",
       "      <td>Jeopardy!</td>\n",
       "      <td>ESPN's TOP 10 ALL-TIME ATHLETES</td>\n",
       "      <td>$200</td>\n",
       "      <td>No. 2: 1912 Olympian; football star at Carlisl...</td>\n",
       "      <td>Jim Thorpe</td>\n",
       "    </tr>\n",
       "    <tr>\n",
       "      <th>2</th>\n",
       "      <td>4680</td>\n",
       "      <td>2004-12-31</td>\n",
       "      <td>Jeopardy!</td>\n",
       "      <td>EVERYBODY TALKS ABOUT IT...</td>\n",
       "      <td>$200</td>\n",
       "      <td>The city of Yuma in this state has a record av...</td>\n",
       "      <td>Arizona</td>\n",
       "    </tr>\n",
       "    <tr>\n",
       "      <th>3</th>\n",
       "      <td>4680</td>\n",
       "      <td>2004-12-31</td>\n",
       "      <td>Jeopardy!</td>\n",
       "      <td>THE COMPANY LINE</td>\n",
       "      <td>$200</td>\n",
       "      <td>In 1963, live on \"The Art Linkletter Show\", th...</td>\n",
       "      <td>McDonald's</td>\n",
       "    </tr>\n",
       "    <tr>\n",
       "      <th>4</th>\n",
       "      <td>4680</td>\n",
       "      <td>2004-12-31</td>\n",
       "      <td>Jeopardy!</td>\n",
       "      <td>EPITAPHS &amp; TRIBUTES</td>\n",
       "      <td>$200</td>\n",
       "      <td>Signer of the Dec. of Indep., framer of the Co...</td>\n",
       "      <td>John Adams</td>\n",
       "    </tr>\n",
       "  </tbody>\n",
       "</table>\n",
       "</div>"
      ],
      "text/plain": [
       "   Show Number    Air Date      Round                         Category  Value  \\\n",
       "0         4680  2004-12-31  Jeopardy!                          HISTORY   $200   \n",
       "1         4680  2004-12-31  Jeopardy!  ESPN's TOP 10 ALL-TIME ATHLETES   $200   \n",
       "2         4680  2004-12-31  Jeopardy!      EVERYBODY TALKS ABOUT IT...   $200   \n",
       "3         4680  2004-12-31  Jeopardy!                 THE COMPANY LINE   $200   \n",
       "4         4680  2004-12-31  Jeopardy!              EPITAPHS & TRIBUTES   $200   \n",
       "\n",
       "                                            Question      Answer  \n",
       "0  For the last 8 years of his life, Galileo was ...  Copernicus  \n",
       "1  No. 2: 1912 Olympian; football star at Carlisl...  Jim Thorpe  \n",
       "2  The city of Yuma in this state has a record av...     Arizona  \n",
       "3  In 1963, live on \"The Art Linkletter Show\", th...  McDonald's  \n",
       "4  Signer of the Dec. of Indep., framer of the Co...  John Adams  "
      ]
     },
     "execution_count": 2,
     "metadata": {},
     "output_type": "execute_result"
    }
   ],
   "source": [
    "jeopardy = pd.read_csv('jeopardy.csv')\n",
    "jeopardy.head()"
   ]
  },
  {
   "cell_type": "code",
   "execution_count": 3,
   "metadata": {
    "collapsed": false
   },
   "outputs": [
    {
     "data": {
      "text/plain": [
       "Index(['Show Number', ' Air Date', ' Round', ' Category', ' Value',\n",
       "       ' Question', ' Answer'],\n",
       "      dtype='object')"
      ]
     },
     "execution_count": 3,
     "metadata": {},
     "output_type": "execute_result"
    }
   ],
   "source": [
    "jeopardy.columns"
   ]
  },
  {
   "cell_type": "code",
   "execution_count": 4,
   "metadata": {
    "collapsed": false
   },
   "outputs": [
    {
     "name": "stdout",
     "output_type": "stream",
     "text": [
      "Show Number\n",
      "Air Date\n",
      "Round\n",
      "Category\n",
      "Value\n",
      "Question\n",
      "Answer\n"
     ]
    }
   ],
   "source": [
    "real_cols = []\n",
    "for col in jeopardy.columns:\n",
    "    m = re.search(r'\\S.+',col)\n",
    "    if m:\n",
    "        real_cols.append(m.group(0))\n",
    "        print(m.group(0))\n",
    "    else:\n",
    "        real_cols.append(col)\n",
    "jeopardy.columns = real_cols"
   ]
  },
  {
   "cell_type": "code",
   "execution_count": 5,
   "metadata": {
    "collapsed": false
   },
   "outputs": [
    {
     "data": {
      "text/plain": [
       "Index(['Show Number', 'Air Date', 'Round', 'Category', 'Value', 'Question',\n",
       "       'Answer'],\n",
       "      dtype='object')"
      ]
     },
     "execution_count": 5,
     "metadata": {},
     "output_type": "execute_result"
    }
   ],
   "source": [
    "jeopardy.columns"
   ]
  },
  {
   "cell_type": "code",
   "execution_count": 6,
   "metadata": {
    "collapsed": false
   },
   "outputs": [],
   "source": [
    "def normalize_text(string):\n",
    "    string = string.lower()\n",
    "    str_list = re.split(r'\\W+',string)\n",
    "    normal = ' '.join(str_list)\n",
    "    return normal\n"
   ]
  },
  {
   "cell_type": "code",
   "execution_count": 7,
   "metadata": {
    "collapsed": false
   },
   "outputs": [
    {
     "name": "stdout",
     "output_type": "stream",
     "text": [
      "no 2 1912 olympian football sta\n"
     ]
    }
   ],
   "source": [
    "print(normalize_text('No. 2: 1912 Olympian; football sta'))"
   ]
  },
  {
   "cell_type": "code",
   "execution_count": 8,
   "metadata": {
    "collapsed": false
   },
   "outputs": [],
   "source": [
    "jeopardy['clean_question'] = jeopardy['Question'].apply(normalize_text)"
   ]
  },
  {
   "cell_type": "code",
   "execution_count": 9,
   "metadata": {
    "collapsed": false
   },
   "outputs": [],
   "source": [
    "jeopardy['clean_answer'] = jeopardy['Answer'].apply(normalize_text)"
   ]
  },
  {
   "cell_type": "code",
   "execution_count": 10,
   "metadata": {
    "collapsed": false
   },
   "outputs": [],
   "source": [
    "def norm_cash(val):\n",
    "    if val != \"None\":\n",
    "        num = re.search(r'\\w+',val)\n",
    "        num = num.group(0)\n",
    "        num = int(num)\n",
    "        return num\n",
    "    else:\n",
    "        return 0"
   ]
  },
  {
   "cell_type": "code",
   "execution_count": 11,
   "metadata": {
    "collapsed": false
   },
   "outputs": [],
   "source": [
    "jeopardy['clean_value'] = jeopardy['Value'].apply(norm_cash)"
   ]
  },
  {
   "cell_type": "code",
   "execution_count": 12,
   "metadata": {
    "collapsed": false
   },
   "outputs": [],
   "source": [
    "jeopardy['Air Date'] = pd.to_datetime(jeopardy['Air Date'])"
   ]
  },
  {
   "cell_type": "code",
   "execution_count": 13,
   "metadata": {
    "collapsed": false
   },
   "outputs": [],
   "source": [
    "def check_q(check):\n",
    "    split_answer = check['clean_answer'].split(' ')\n",
    "    split_question = check['clean_question'].split(' ')\n",
    "    match_count = 0\n",
    "    while split_answer.count('the') > 0:\n",
    "        split_answer.remove('the')\n",
    "    if len(split_answer) == 0:\n",
    "        return 0\n",
    "    for word in split_answer:\n",
    "        if split_question.count(word) > 0:\n",
    "            match_count += 1\n",
    "    return match_count / len(split_answer)"
   ]
  },
  {
   "cell_type": "code",
   "execution_count": 14,
   "metadata": {
    "collapsed": false
   },
   "outputs": [],
   "source": [
    "jeopardy['answer_in_question'] = jeopardy.apply(check_q, axis=1)"
   ]
  },
  {
   "cell_type": "code",
   "execution_count": 15,
   "metadata": {
    "collapsed": false
   },
   "outputs": [
    {
     "data": {
      "text/plain": [
       "0.068723868400102209"
      ]
     },
     "execution_count": 15,
     "metadata": {},
     "output_type": "execute_result"
    }
   ],
   "source": [
    "jeopardy['answer_in_question'].mean()"
   ]
  },
  {
   "cell_type": "code",
   "execution_count": 16,
   "metadata": {
    "collapsed": false
   },
   "outputs": [
    {
     "data": {
      "text/plain": [
       "(19999, 11)"
      ]
     },
     "execution_count": 16,
     "metadata": {},
     "output_type": "execute_result"
    }
   ],
   "source": [
    "question_overlap = []\n",
    "terms_used = set()\n",
    "jeopardy.shape"
   ]
  },
  {
   "cell_type": "code",
   "execution_count": 17,
   "metadata": {
    "collapsed": false
   },
   "outputs": [],
   "source": [
    "for index, row in jeopardy.iterrows():\n",
    "    split_question = row['clean_question'].split(' ')\n",
    "    for word in split_question:\n",
    "        if len(word) < 6:\n",
    "            split_question.remove(word)\n",
    "    match_count = 0\n",
    "    for word in split_question:\n",
    "        if word in terms_used:\n",
    "            match_count += 1\n",
    "        terms_used.add(word)\n",
    "    if len(split_question) > 0:\n",
    "        match_count = match_count/len(split_question)\n",
    "    question_overlap.append(match_count)\n",
    "\n",
    "jeopardy['question_overlap'] = question_overlap"
   ]
  },
  {
   "cell_type": "code",
   "execution_count": 18,
   "metadata": {
    "collapsed": false
   },
   "outputs": [
    {
     "data": {
      "text/plain": [
       "0.83168545495871471"
      ]
     },
     "execution_count": 18,
     "metadata": {},
     "output_type": "execute_result"
    }
   ],
   "source": [
    "jeopardy['question_overlap'].mean()"
   ]
  },
  {
   "cell_type": "markdown",
   "metadata": {
    "collapsed": true
   },
   "source": [
    "Very few questions are recycled, so studying old questions will likely not help very much. It would be better to sort questions by subject matter or categories and then study those categories."
   ]
  },
  {
   "cell_type": "code",
   "execution_count": 19,
   "metadata": {
    "collapsed": true
   },
   "outputs": [],
   "source": [
    "def check_value(row):\n",
    "    val = row['clean_value']\n",
    "    if val > 800:\n",
    "        value = 1\n",
    "    else:\n",
    "        value = 0\n",
    "    return value"
   ]
  },
  {
   "cell_type": "code",
   "execution_count": 20,
   "metadata": {
    "collapsed": false
   },
   "outputs": [],
   "source": [
    "jeopardy['high_value'] = jeopardy.apply(check_value, axis=1)"
   ]
  },
  {
   "cell_type": "code",
   "execution_count": 31,
   "metadata": {
    "collapsed": false
   },
   "outputs": [],
   "source": [
    "splits=[]\n",
    "jeopardy['split_question'] = ''\n",
    "for index, row in jeopardy.iterrows():\n",
    "    row['split_question'] = row['clean_question'].split(' ')\n",
    "    splits.append(row['split_question'])\n",
    "\n",
    "jeopardy['split_question'] = splits"
   ]
  },
  {
   "cell_type": "code",
   "execution_count": 32,
   "metadata": {
    "collapsed": false
   },
   "outputs": [
    {
     "name": "stdout",
     "output_type": "stream",
     "text": [
      "0        [for, the, last, 8, years, of, his, life, gali...\n",
      "1        [no, 2, 1912, olympian, football, star, at, ca...\n",
      "2        [the, city, of, yuma, in, this, state, has, a,...\n",
      "3        [in, 1963, live, on, the, art, linkletter, sho...\n",
      "4        [signer, of, the, dec, of, indep, framer, of, ...\n",
      "5        [in, the, title, of, an, aesop, fable, this, i...\n",
      "6        [built, in, 312, b, c, to, link, rome, the, so...\n",
      "7        [no, 8, 30, steals, for, the, birmingham, baro...\n",
      "8        [in, the, winter, of, 1971, 72, a, record, 1, ...\n",
      "9        [this, housewares, store, was, named, for, the...\n",
      "10                                 [, and, away, we, go, ]\n",
      "11       [cows, regurgitate, this, from, the, first, st...\n",
      "12       [in, 1000, rajaraja, i, of, the, cholas, battl...\n",
      "13       [no, 1, lettered, in, hoops, football, lacross...\n",
      "14       [on, june, 28, 1994, the, nat, l, weather, ser...\n",
      "15       [this, company, s, accutron, watch, introduced...\n",
      "16       [outlaw, murdered, by, a, traitor, and, a, cow...\n",
      "17       [a, small, demon, or, a, mischievous, child, w...\n",
      "18       [karl, led, the, first, of, these, marxist, or...\n",
      "19       [no, 10, fb, lb, for, columbia, u, in, the, 19...\n",
      "20       [africa, s, lowest, temperature, was, 11, degr...\n",
      "21       [edward, teller, this, man, partnered, in, 189...\n",
      "22       [1939, oscar, winner, you, are, a, credit, to,...\n",
      "23       [in, geologic, time, one, of, these, shorter, ...\n",
      "24       [this, asian, political, party, was, founded, ...\n",
      "25       [no, 5, only, center, to, lead, the, nba, in, ...\n",
      "26       [the, kirschner, brothers, don, bill, named, t...\n",
      "27       [revolutionary, war, hero, his, spirit, is, in...\n",
      "28       [a, single, layer, of, paper, or, to, perform,...\n",
      "29       [, a, href, http, www, j, archive, com, media,...\n",
      "                               ...                        \n",
      "19969    [in, 1960, the, last, of, these, locomotives, ...\n",
      "19970    [kate, if, i, be, waspish, best, beware, my, s...\n",
      "19971    [this, private, college, in, northern, califor...\n",
      "19972    [she, voiced, princess, pea, in, the, tale, of...\n",
      "19973    [it, s, the, name, of, the, long, awaited, new...\n",
      "19974    [langdon, in, angels, demons, is, looking, for...\n",
      "19975    [in, the, 1600s, most, of, new, york, state, w...\n",
      "19976    [marina, s, dad, need, a, hint, he, rules, tyr...\n",
      "19977    [presidential, kids, are, welcome, at, this, n...\n",
      "19978    [she, didn, t, vamp, it, up, did, a, bella, jo...\n",
      "19979    [third, syllable, intoned, by, the, giant, who...\n",
      "19980    [much, of, angels, demons, takes, place, at, o...\n",
      "19981    [in, 1899, secretary, of, state, john, hay, pr...\n",
      "19982    [fruity, surname, of, peter, in, a, midsummer,...\n",
      "19983    [quincy, jones, kevin, eubanks, branford, mars...\n",
      "19984    [in, 2009, she, returned, to, being, fast, fur...\n",
      "19985    [the, book, of, genesis, says, this, ancient, ...\n",
      "19986    [, habakkuk, and, the, angel, is, one, of, a, ...\n",
      "19987    [in, medieval, england, it, meant, the, smalle...\n",
      "19988    [this, texas, city, is, the, largest, in, the,...\n",
      "19989                                    [, the, crickets]\n",
      "19990    [in, the, 990s, this, son, of, erik, the, red,...\n",
      "19991    [concerning, a, failed, windows, 98, demonstra...\n",
      "19992    [this, llama, product, is, used, to, make, hat...\n",
      "19993    [in, 1967, this, company, introduced, its, cho...\n",
      "19994    [of, 8, 12, or, 18, the, number, of, u, s, sta...\n",
      "19995                      [, the, new, power, generation]\n",
      "19996    [in, 1589, he, was, appointed, professor, of, ...\n",
      "19997    [before, the, grand, jury, she, said, i, m, re...\n",
      "19998    [llamas, are, the, heftiest, south, american, ...\n",
      "Name: split_question, dtype: object\n"
     ]
    }
   ],
   "source": [
    "print(jeopardy['split_question'])"
   ]
  },
  {
   "cell_type": "code",
   "execution_count": 44,
   "metadata": {
    "collapsed": false
   },
   "outputs": [],
   "source": [
    "def word_count(word):\n",
    "    low_count = 0\n",
    "    high_count = 0\n",
    "    for index, row in jeopardy.iterrows():\n",
    "        if word in row['split_question']:\n",
    "            if row['high_value'] == 1:\n",
    "                high_count += 1\n",
    "            else:\n",
    "                low_count += 1\n",
    "    return low_count, high_count"
   ]
  },
  {
   "cell_type": "code",
   "execution_count": 48,
   "metadata": {
    "collapsed": false
   },
   "outputs": [
    {
     "data": {
      "text/plain": [
       "19999"
      ]
     },
     "execution_count": 48,
     "metadata": {},
     "output_type": "execute_result"
    }
   ],
   "source": [
    "jeopardy.shape[0]"
   ]
  },
  {
   "cell_type": "code",
   "execution_count": 49,
   "metadata": {
    "collapsed": true
   },
   "outputs": [],
   "source": [
    "low_high = []\n",
    "terms_used = list(terms_used)\n",
    "comparison_terms = terms_used[1:6]\n",
    "\n",
    "for term in comparison_terms:\n",
    "    low_high.append(word_count(term))"
   ]
  },
  {
   "cell_type": "code",
   "execution_count": 50,
   "metadata": {
    "collapsed": false
   },
   "outputs": [
    {
     "name": "stdout",
     "output_type": "stream",
     "text": [
      "['promontory', 'collyer', 'wingspan', 'sydney', 'replace']\n",
      "[(4, 0), (0, 1), (1, 1), (8, 5), (9, 0)]\n"
     ]
    }
   ],
   "source": [
    "print(comparison_terms)\n",
    "print(low_high)"
   ]
  },
  {
   "cell_type": "code",
   "execution_count": 41,
   "metadata": {
    "collapsed": false
   },
   "outputs": [],
   "source": [
    "low_value_count = jeopardy['high_value'].value_counts()[0]\n",
    "high_value_count = jeopardy['high_value'].value_counts()[1]"
   ]
  },
  {
   "cell_type": "code",
   "execution_count": 60,
   "metadata": {
    "collapsed": false
   },
   "outputs": [],
   "source": [
    "chi_squared = []\n",
    "for count_list in low_high:\n",
    "    total = sum(count_list)\n",
    "    total_prop = total / jeopardy.shape[0]\n",
    "    expected_term_high = total_prop * high_value_count\n",
    "    expected_term_low = total_prop * low_value_count\n",
    "    chi_square, p = scipy.stats.chisquare(count_list[1],expected_term_high)\n",
    "    chi_squared.append((chi_square,p))\n",
    "    "
   ]
  },
  {
   "cell_type": "code",
   "execution_count": 61,
   "metadata": {
    "collapsed": false
   },
   "outputs": [
    {
     "name": "stdout",
     "output_type": "stream",
     "text": [
      "[(0.99444972248612429, nan), (2.270937450734162, nan), (0.50838737129937761, nan), (0.96720202137342481, nan), (2.2375118755937797, nan)]\n"
     ]
    }
   ],
   "source": [
    "print(chi_squared)"
   ]
  },
  {
   "cell_type": "markdown",
   "metadata": {},
   "source": [
    "Find a better way to eliminate non-informative words than just removing words that are less than 6 characters long. Some ideas:\n",
    "Manually create a list of words to remove, like the, than, etc.\n",
    "Find a list of stopwords to remove.\n",
    "Remove words that occur in more than a certain percentage (like 5%) of questions.\n",
    "Perform the chi-squared test across more terms to see what terms have larger differences. This is hard to do currently because the code is slow, but here are some ideas:\n",
    "Use the apply method to make the code that calculates frequencies more efficient.\n",
    "Only select terms that have high frequencies across the dataset, and ignore the others.\n",
    "Look more into the Category column and see if any interesting analysis can be done with it. Some ideas:\n",
    "See which categories appear the most often.\n",
    "Find the probability of each category appearing in each round.\n",
    "Use the whole Jeopardy dataset (available here) instead of the subset we used in this mission.\n",
    "Use phrases instead of single words when seeing if there's overlap between questions. Single words don't capture the whole context of the question well."
   ]
  }
 ],
 "metadata": {
  "kernelspec": {
   "display_name": "Python 3",
   "language": "python",
   "name": "python3"
  },
  "language_info": {
   "codemirror_mode": {
    "name": "ipython",
    "version": 3
   },
   "file_extension": ".py",
   "mimetype": "text/x-python",
   "name": "python",
   "nbconvert_exporter": "python",
   "pygments_lexer": "ipython3",
   "version": "3.4.3"
  }
 },
 "nbformat": 4,
 "nbformat_minor": 0
}
